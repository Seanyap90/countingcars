{
  "nbformat": 4,
  "nbformat_minor": 0,
  "metadata": {
    "colab": {
      "name": "CV_Traffic_LTA.ipynb",
      "provenance": []
    },
    "kernelspec": {
      "name": "python3",
      "display_name": "Python 3"
    },
    "language_info": {
      "name": "python"
    }
  },
  "cells": [
    {
      "cell_type": "markdown",
      "metadata": {
        "id": "AqnUkGWisJ1d"
      },
      "source": [
        "Part 1: Retrieve traffic image metadata in a certain period from Gov.sg"
      ]
    },
    {
      "cell_type": "code",
      "metadata": {
        "id": "j7F3l9pilg3w"
      },
      "source": [
        "# Import libraries\n",
        "import requests\n",
        "import time\n",
        "import datetime\n",
        "import pandas as pd\n",
        "import concurrent.futures"
      ],
      "execution_count": null,
      "outputs": []
    },
    {
      "cell_type": "code",
      "metadata": {
        "id": "l6QDkbO-rQ-q"
      },
      "source": [
        "# Mount your Google Drive\n",
        "from google.colab import drive\n",
        "drive.mount('/content/drive')"
      ],
      "execution_count": null,
      "outputs": []
    },
    {
      "cell_type": "code",
      "metadata": {
        "id": "sc4EQJ5WrgIW"
      },
      "source": [
        "# Define a function to retrieve json data, especially image URLs from API of Gov.sg\n",
        "def retrieveCameraJSON(date_time):\n",
        "  url = 'https://api.data.gov.sg/v1/transport/traffic-images'\n",
        "  temp_url = url + '?date_time=' + date_time.isoformat()\n",
        "  response = requests.get(temp_url)\n",
        "  data = response.json()\n",
        "  return data"
      ],
      "execution_count": null,
      "outputs": []
    },
    {
      "cell_type": "code",
      "metadata": {
        "id": "QB4og4Z3r7h1"
      },
      "source": [
        "# Create a list of datetime to define the period you intend to retrieve data from\n",
        "jan2019 = pd.date_range(start='2019-01-01', end='2019-02-01', freq='T')\n",
        "jan2020 = pd.date_range(start='2020-01-01', end='2020-02-01', freq='T')"
      ],
      "execution_count": null,
      "outputs": []
    },
    {
      "cell_type": "code",
      "metadata": {
        "id": "Nk-DGdu7HlQw"
      },
      "source": [
        "# Make concurrent API calls for Jan 2019 data\n",
        "completed_2019 = []\n",
        "future_list_2019 = []\n",
        "with concurrent.futures.ThreadPoolExecutor(max_workers=150) as executor:\n",
        "  for date_time in jan2019:\n",
        "    futures = executor.submit(retrieveCameraJSON, date_time)\n",
        "    future_list_2019.append(futures)\n",
        "  for future in concurrent.futures.as_completed(future_list_2019):\n",
        "    completed_2019.append(future.result())\n"
      ],
      "execution_count": null,
      "outputs": []
    },
    {
      "cell_type": "code",
      "metadata": {
        "id": "WipTF_shtgyg"
      },
      "source": [
        "# Get 2019 Dataframe\n",
        "list_of_dfs = []\n",
        "for i in range(len(completed_2019)):\n",
        "  print(i)\n",
        "  print(completed_2019[i]['items'])\n",
        "  df = pd.json_normalize(completed_2019[i]['items'],  record_path = ['cameras'], meta_prefix ='.', errors='ignore')\n",
        "  list_of_dfs.append(df)\n",
        "\n",
        "new_df = pd.concat(list_of_dfs)\n",
        "new_df"
      ],
      "execution_count": null,
      "outputs": []
    },
    {
      "cell_type": "code",
      "metadata": {
        "id": "sDg-mVj9t5Ys"
      },
      "source": [
        "# Focus on the image URLs from one specific traffic camera\n",
        "new_df_2 = new_df[new_df['camera_id'] == '1709']\n",
        "new_df_2 = new_df_2.drop_duplicates(subset=['image'])\n",
        "new_df_2 = new_df_2.sort_values(by=['timestamp'])\n",
        "new_df_2.head(5)"
      ],
      "execution_count": null,
      "outputs": []
    },
    {
      "cell_type": "code",
      "metadata": {
        "id": "22bb_a_OuBmM"
      },
      "source": [
        "# Export 2019 DataFrame to CSV\n",
        "new_df_2.to_csv('/content/drive/MyDrive/Colab Notebooks/Uplevel traffic/jan2019.csv', index=False)"
      ],
      "execution_count": null,
      "outputs": []
    },
    {
      "cell_type": "code",
      "metadata": {
        "id": "dmTYhnfRuLJG"
      },
      "source": [
        "# Make concurrent API calls for Jan 2020 data\n",
        "completed_2020 = []\n",
        "future_list = []\n",
        "with concurrent.futures.ThreadPoolExecutor(max_workers=150) as executor:\n",
        "  for date_time in jan2020:\n",
        "    futures = executor.submit(retrieveCameraJSON, date_time)\n",
        "    future_list.append(futures)\n",
        "  for future in concurrent.futures.as_completed(future_list):\n",
        "    completed_2020.append(future.result())"
      ],
      "execution_count": null,
      "outputs": []
    },
    {
      "cell_type": "code",
      "metadata": {
        "id": "NPzlCqcLuew4"
      },
      "source": [
        "# Step 16: Get the 2020 Jan DataFrame\n",
        "list_of_dfs = []\n",
        "for i in range(len(completed_2020)):\n",
        "  df = pd.json_normalize(completed_2020[i]['items'],  record_path = ['cameras'], meta_prefix ='.', errors='ignore')\n",
        "  list_of_dfs.append(df)\n",
        "\n",
        "new_df = pd.concat(list_of_dfs)\n",
        "new_df"
      ],
      "execution_count": null,
      "outputs": []
    },
    {
      "cell_type": "code",
      "metadata": {
        "id": "_nd-Cy5EuvVC"
      },
      "source": [
        "# Focus on the image URLs from one specific traffic camera\n",
        "new_df_2 = new_df[new_df['camera_id'] == '1709']\n",
        "new_df_2 = new_df_2.drop_duplicates(subset=['image'])\n",
        "new_df_2 = new_df_2.sort_values(by=['timestamp'])\n",
        "new_df_2.head(5)"
      ],
      "execution_count": null,
      "outputs": []
    },
    {
      "cell_type": "code",
      "metadata": {
        "id": "GfXchzEju5Gs"
      },
      "source": [
        "# Export 2020 DataFrame to CSV\n",
        "new_df_2.to_csv('/content/drive/MyDrive/Colab Notebooks/Uplevel traffic/jan2020.csv', index=False)"
      ],
      "execution_count": null,
      "outputs": []
    },
    {
      "cell_type": "markdown",
      "metadata": {
        "id": "B3-Dfq1Cv_j5"
      },
      "source": [
        "Part 2: Extract original images from all URL recorded in the URL column in the two dataframes of metadata generated\n",
        "\n",
        "\n",
        "---\n",
        "\n"
      ]
    },
    {
      "cell_type": "code",
      "metadata": {
        "id": "SGIqdLDzwIls"
      },
      "source": [
        "import pandas as pd\n",
        "import os\n",
        "import requests\n",
        "from io import BytesIO\n",
        "from PIL import Image\n",
        "import concurrent.futures"
      ],
      "execution_count": null,
      "outputs": []
    },
    {
      "cell_type": "code",
      "metadata": {
        "id": "dP5Ps2FWwlMF"
      },
      "source": [
        "df2019 = pd.read_csv('/content/drive/MyDrive/Colab Notebooks/Uplevel traffic/jan2019.csv')\n",
        "df2020 = pd.read_csv('/content/drive/MyDrive/Colab Notebooks/Uplevel traffic/jan2020.csv')"
      ],
      "execution_count": null,
      "outputs": []
    },
    {
      "cell_type": "code",
      "metadata": {
        "id": "WRkdaJr1xIDQ"
      },
      "source": [
        "# define function to loop through dataframe later to get images\n",
        "def getImages(index, row, destination_url):\n",
        "  row_num = index\n",
        "  temp_url = row['image']\n",
        "  temp_res = requests.get(temp_url)\n",
        "  try:\n",
        "    image_bytes = BytesIO(temp_res.content)\n",
        "    img = Image.open(image_bytes)\n",
        "    img.save('/content/drive/MyDrive/Colab Notebooks/Uplevel traffic/' + destination_url +'/' + str(row_num) +'.jpg')\n",
        "  except Exception as e:\n",
        "    print(e)\n",
        "    pass"
      ],
      "execution_count": null,
      "outputs": []
    },
    {
      "cell_type": "code",
      "metadata": {
        "id": "_yIoH_LBxT9H"
      },
      "source": [
        "# Run a concurrent getImages call for Jan 2019\n",
        "destination_url = 'car_image_2019_Jan'\n",
        "completed = []\n",
        "future_list = []\n",
        "with concurrent.futures.ThreadPoolExecutor(max_workers=150) as executor:\n",
        "  for index, row in df2019.iterrows():\n",
        "    futures = executor.submit(getImages, index, row, destination_url)\n",
        "    future_list.append(futures)\n",
        "  for future in concurrent.futures.as_completed(future_list):\n",
        "    completed.append(future.result())"
      ],
      "execution_count": null,
      "outputs": []
    },
    {
      "cell_type": "code",
      "metadata": {
        "id": "bvPhSODpxe08"
      },
      "source": [
        "# Count the number of images in car_image_2019_Jan\n",
        "len(os.listdir('/content/drive/MyDrive/Colab Notebooks/Uplevel traffic/' + destination_url +'/'))"
      ],
      "execution_count": null,
      "outputs": []
    },
    {
      "cell_type": "code",
      "metadata": {
        "id": "ZjnhhR61xiXD"
      },
      "source": [
        "# Retrieve all images for 2020 Jan\n",
        "destination_url = 'car_image_2020_Jan'\n",
        "completed = []\n",
        "future_list = []\n",
        "with concurrent.futures.ThreadPoolExecutor(max_workers=150) as executor:\n",
        "  for index, row in df2020.iterrows():\n",
        "    futures = executor.submit(getImages, index, row, destination_url)\n",
        "    future_list.append(futures)\n",
        "  for future in concurrent.futures.as_completed(future_list):\n",
        "    completed.append(future.result())"
      ],
      "execution_count": null,
      "outputs": []
    },
    {
      "cell_type": "code",
      "metadata": {
        "id": "mSq5Xfyyxv5h"
      },
      "source": [
        "# Count the number of images in car_image_2020\n",
        "len(os.listdir('/content/drive/MyDrive/Colab Notebooks/Uplevel traffic/' + destination_url +'/'))"
      ],
      "execution_count": null,
      "outputs": []
    },
    {
      "cell_type": "markdown",
      "metadata": {
        "id": "mZtoch9lyTc1"
      },
      "source": [
        "Before Part 3: Prepare for OpenCV in Colab"
      ]
    },
    {
      "cell_type": "code",
      "metadata": {
        "id": "YfJEQldTyg1k"
      },
      "source": [
        "%cd /content\n",
        "!git clone https://github.com/opencv/opencv\n",
        "!git clone https://github.com/opencv/opencv_contrib\n",
        "!mkdir /content/build\n",
        "%cd /content/build\n",
        "!cmake -DOPENCV_EXTRA_MODULES_PATH=/content/opencv_contrib/modules  -DBUILD_SHARED_LIBS=OFF  -DBUILD_TESTS=OFF  -DBUILD_PERF_TESTS=OFF -DBUILD_EXAMPLES=OFF -DWITH_OPENEXR=OFF -DWITH_CUDA=ON -DWITH_CUBLAS=ON -DWITH_CUDNN=ON -DOPENCV_DNN_CUDA=ON /content/opencv\n",
        "!make -j8 install"
      ],
      "execution_count": null,
      "outputs": []
    },
    {
      "cell_type": "markdown",
      "metadata": {
        "id": "5XgySIi9ywDt"
      },
      "source": [
        "Part 3: Car counting"
      ]
    },
    {
      "cell_type": "code",
      "metadata": {
        "id": "9uGckC-RykEk"
      },
      "source": [
        "# import and check cv2 version\n",
        "import os\n",
        "import cv2\n",
        "cv2.__version__"
      ],
      "execution_count": null,
      "outputs": []
    },
    {
      "cell_type": "code",
      "metadata": {
        "id": "cSOwSC3hy5EH"
      },
      "source": [
        "!pip install cvlib"
      ],
      "execution_count": null,
      "outputs": []
    },
    {
      "cell_type": "code",
      "metadata": {
        "id": "bfIrKUyMy7Cc"
      },
      "source": [
        "# import other libraries for this part\n",
        "import cvlib as cv\n",
        "import pandas as pd\n",
        "import cv2\n",
        "import numpy as np\n",
        "import matplotlib.pyplot as plt\n",
        "from cvlib.object_detection import draw_bbox"
      ],
      "execution_count": null,
      "outputs": []
    },
    {
      "cell_type": "code",
      "metadata": {
        "id": "-LDRiRdNy-0t"
      },
      "source": [
        "# Import dataframes again\n",
        "df2019 = pd.read_csv('/content/drive/MyDrive/Colab Notebooks/Uplevel traffic/jan2019.csv')\n",
        "df2020 = pd.read_csv('/content/drive/MyDrive/Colab Notebooks/Uplevel traffic/jan2020.csv')"
      ],
      "execution_count": null,
      "outputs": []
    },
    {
      "cell_type": "code",
      "metadata": {
        "id": "bVF0fp0FzeB5"
      },
      "source": [
        "# Define a function for looping through the dataframes later and detect and count the cars in the image\n",
        "def getLabelCount(index, folder_path):\n",
        "  temp_path = folder_path + str(index) + '.jpg'\n",
        "  try:\n",
        "    temp_img = cv2.imread(temp_path)\n",
        "    bbox, label, conf = cv.detect_common_objects(temp_img, model='yolov4', enable_gpu=True)\n",
        "  except Exception as e:\n",
        "    label = []\n",
        "  return len(label)"
      ],
      "execution_count": null,
      "outputs": []
    },
    {
      "cell_type": "code",
      "metadata": {
        "id": "Wx_SSXE_gqIC"
      },
      "source": [
        "# Get a list of getLabelCount tuples for 2019\n",
        "label_list = []\n",
        "for i in df2019.index:\n",
        "  label_length = getLabelCount(index = i, folder_path = '/content/drive/MyDrive/Colab Notebooks/Uplevel traffic/car_image_2019_Jan/')\n",
        "  label_list.append(label_length)"
      ],
      "execution_count": null,
      "outputs": []
    },
    {
      "cell_type": "code",
      "metadata": {
        "id": "hIZdQ0Taz9oL"
      },
      "source": [
        "# Determine length of list\n",
        "len(label_list)"
      ],
      "execution_count": null,
      "outputs": []
    },
    {
      "cell_type": "code",
      "metadata": {
        "id": "pw2B3J_zgkzS"
      },
      "source": [
        "# Add a new column named num_cars\n",
        "df2019['num_cars'] = label_list\n",
        "df2019"
      ],
      "execution_count": null,
      "outputs": []
    },
    {
      "cell_type": "code",
      "metadata": {
        "id": "xLvg9Iow0Ih5"
      },
      "source": [
        "df2019.to_csv('/content/drive/MyDrive/Colab Notebooks/Uplevel traffic/jan2019_2.csv', index=False)"
      ],
      "execution_count": null,
      "outputs": []
    },
    {
      "cell_type": "code",
      "metadata": {
        "id": "zpYYkyjH0Jcx"
      },
      "source": [
        "# Likewise for 2020:\n",
        "label_list = []\n",
        "for i in df2020.index:\n",
        "  label_length = getLabelCount(index = i, folder_path = '/content/drive/MyDrive/Colab Notebooks/Uplevel traffic/car_image_2020_Jan/')\n",
        "  label_list.append(label_length)"
      ],
      "execution_count": null,
      "outputs": []
    },
    {
      "cell_type": "code",
      "metadata": {
        "colab": {
          "base_uri": "https://localhost:8080/"
        },
        "id": "ZQybPwv1NBnv",
        "outputId": "bc6c78e3-23c3-403c-b3b2-38b4204cb70c"
      },
      "source": [
        "len(label_list)"
      ],
      "execution_count": null,
      "outputs": [
        {
          "output_type": "execute_result",
          "data": {
            "text/plain": [
              "29939"
            ]
          },
          "metadata": {
            "tags": []
          },
          "execution_count": 16
        }
      ]
    },
    {
      "cell_type": "code",
      "metadata": {
        "id": "tedL6DJu0SA4"
      },
      "source": [
        "df2020['num_cars'] = label_list\n",
        "df2020\n",
        "df2020.to_csv('/content/drive/MyDrive/Colab Notebooks/Uplevel traffic/jan2020_2.csv', index=False)"
      ],
      "execution_count": null,
      "outputs": []
    }
  ]
}